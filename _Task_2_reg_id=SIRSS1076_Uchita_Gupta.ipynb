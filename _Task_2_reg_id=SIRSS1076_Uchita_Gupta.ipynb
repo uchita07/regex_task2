{
  "nbformat": 4,
  "nbformat_minor": 0,
  "metadata": {
    "colab": {
      "name": "_Task_2_reg_id=SIRSS1076_Uchita_Gupta.ipynb",
      "provenance": []
    },
    "kernelspec": {
      "name": "python3",
      "display_name": "Python 3"
    },
    "language_info": {
      "name": "python"
    }
  },
  "cells": [
    {
      "cell_type": "code",
      "metadata": {
        "colab": {
          "base_uri": "https://localhost:8080/",
          "height": 53
        },
        "id": "C3Z7O8OyisTf",
        "outputId": "e4ff667a-ba26-42af-8d2a-396549f4f924"
      },
      "source": [
        "#Write a lambda expression to extract first word of a string.\n",
        "a=lambda n: n.split()[0]\n",
        "n=input()\n",
        "a(n)"
      ],
      "execution_count": 2,
      "outputs": [
        {
          "output_type": "stream",
          "text": [
            "My name is Uchita\n"
          ],
          "name": "stdout"
        },
        {
          "output_type": "execute_result",
          "data": {
            "application/vnd.google.colaboratory.intrinsic+json": {
              "type": "string"
            },
            "text/plain": [
              "'My'"
            ]
          },
          "metadata": {
            "tags": []
          },
          "execution_count": 2
        }
      ]
    },
    {
      "cell_type": "code",
      "metadata": {
        "colab": {
          "base_uri": "https://localhost:8080/"
        },
        "id": "6Ph-eJJljkzY",
        "outputId": "e8804354-d950-456e-f729-7909c8f8d7a4"
      },
      "source": [
        "#Write a function to extract first word of s string (with many words separated by space).\n",
        "def firstword(n):\n",
        "    return n.split()[0]\n",
        "n=input()\n",
        "print(firstword(n))"
      ],
      "execution_count": 3,
      "outputs": [
        {
          "output_type": "stream",
          "text": [
            "Such a beautiful garden\n",
            "Such\n"
          ],
          "name": "stdout"
        }
      ]
    },
    {
      "cell_type": "code",
      "metadata": {
        "colab": {
          "base_uri": "https://localhost:8080/"
        },
        "id": "Ya4WtVknka3q",
        "outputId": "ecb79931-e1c7-4f72-8cc2-a0c91b3a00bd"
      },
      "source": [
        "#Extract the first word from every string from a list of strings by using map function.\n",
        "def firstword(n):\n",
        "    return n.split()[0]\n",
        "list1=[\"My name is Uchita\", \"I am persuing B.Tech. from Mody University\", \"I love to travel.\", \"I like to read books.\"]\n",
        "a=list(map(firstword,list1))\n",
        "a"
      ],
      "execution_count": 6,
      "outputs": [
        {
          "output_type": "execute_result",
          "data": {
            "text/plain": [
              "['My', 'I', 'I', 'I']"
            ]
          },
          "metadata": {
            "tags": []
          },
          "execution_count": 6
        }
      ]
    },
    {
      "cell_type": "code",
      "metadata": {
        "colab": {
          "base_uri": "https://localhost:8080/"
        },
        "id": "rZVZkkXjn4W9",
        "outputId": "c4c6b9c8-b0c6-48c2-bf76-6fb49577b572"
      },
      "source": [
        "#Write a function to return a list of prime factors of a given number.\n",
        "def isprime(n):\n",
        "    for i in range(2,int(n**(0.5))+1):\n",
        "        if n%i==0:\n",
        "            return 0\n",
        "    else: \n",
        "        return 1\n",
        "n=int(input())\n",
        "l=[1]\n",
        "for i in range(2,n+1):\n",
        "    if n%i==0:\n",
        "        if (isprime(i)) ==1:\n",
        "            l.append(i)\n",
        "print(l)"
      ],
      "execution_count": 12,
      "outputs": [
        {
          "output_type": "stream",
          "text": [
            "56\n",
            "[1, 2, 7]\n"
          ],
          "name": "stdout"
        }
      ]
    },
    {
      "cell_type": "code",
      "metadata": {
        "colab": {
          "base_uri": "https://localhost:8080/"
        },
        "id": "I8ih4_OZqrV1",
        "outputId": "1c647c56-1f1a-4e62-ed98-e292e621cc56"
      },
      "source": [
        "#Write a function that finds 2nd largest among 4 numbers (Repetitions are allowed,\n",
        "#without sorting).\n",
        "def array2(l):\n",
        "    first=second=-1234569\n",
        "    for i in range(len(l)):\n",
        "        if l[i]>first:\n",
        "            second=first\n",
        "            first=l[i]\n",
        "        elif l[i]>second and l[i]!=first:\n",
        "            second=l[i]\n",
        "    if first==second:\n",
        "        return \"Second largest does not exist\"\n",
        "    return second\n",
        "print(array2([1,2,3,4]))"
      ],
      "execution_count": 14,
      "outputs": [
        {
          "output_type": "stream",
          "text": [
            "3\n"
          ],
          "name": "stdout"
        }
      ]
    }
  ]
}